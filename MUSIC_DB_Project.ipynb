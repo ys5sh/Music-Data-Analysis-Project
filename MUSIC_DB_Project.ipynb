{
 "cells": [
  {
   "cell_type": "markdown",
   "metadata": {},
   "source": [
    "# Question Set - 1 "
   ]
  },
  {
   "cell_type": "markdown",
   "metadata": {},
   "source": [
    "#### Q1. Who is the senior most employee based on job title?"
   ]
  },
  {
   "cell_type": "code",
   "execution_count": null,
   "metadata": {
    "vscode": {
     "languageId": "sql"
    }
   },
   "outputs": [],
   "source": [
    "SELECT *FROM employee\n",
    "ORDER BY levels DESC\n",
    "LIMIT 1"
   ]
  },
  {
   "cell_type": "markdown",
   "metadata": {},
   "source": [
    "--> Madan Mohan Senior General Manager"
   ]
  },
  {
   "cell_type": "markdown",
   "metadata": {},
   "source": [
    "#### Q2. Which countries have the most Invoices?"
   ]
  },
  {
   "cell_type": "code",
   "execution_count": null,
   "metadata": {
    "vscode": {
     "languageId": "sql"
    }
   },
   "outputs": [],
   "source": [
    "SELECT COUNT(*) as c, billing_country \n",
    "    FROM invoice\n",
    "    GROUP BY billing_country\n",
    "    ORDER BY c desc"
   ]
  },
  {
   "cell_type": "markdown",
   "metadata": {},
   "source": [
    "#### Q3. What are top 3 values of total invoice?"
   ]
  },
  {
   "cell_type": "code",
   "execution_count": null,
   "metadata": {
    "vscode": {
     "languageId": "sql"
    }
   },
   "outputs": [],
   "source": [
    "SELECT total FROM invoice\n",
    "    ORDER BY  total DESC\n",
    "    LIMIT 5"
   ]
  },
  {
   "cell_type": "markdown",
   "metadata": {},
   "source": [
    "#### Q4 Which city has the best customers? We would like to throw a promotional Music Festival in the city we made the most money. Write a query that returns one city that has the highest sum of invoice totals. Return both the city name & sum of all invoice totals."
   ]
  },
  {
   "cell_type": "code",
   "execution_count": null,
   "metadata": {
    "vscode": {
     "languageId": "sql"
    }
   },
   "outputs": [],
   "source": [
    "SELECT SUM(total) AS s, billing_city, billing_country FROM invoice\n",
    "        GROUP BY  billing_city,  billing_country\n",
    "        ORDER BY s DESC\n",
    "        limit 1\n"
   ]
  },
  {
   "cell_type": "markdown",
   "metadata": {},
   "source": [
    "#### Q5 : Who is the best customer? The customer who has spent the most money will be declared the best customer. Write a query that returns the person who has spent the most money"
   ]
  },
  {
   "cell_type": "code",
   "execution_count": null,
   "metadata": {
    "vscode": {
     "languageId": "sql"
    }
   },
   "outputs": [],
   "source": [
    "SELECT customer.customer_id , customer.first_name, customer.last_name, SUM(invoice.total) as total \n",
    "    FROM customer\n",
    "    JOIN invoice ON customer.customer_id = invoice.customer_id\n",
    "    GROUP BY customer.customer_id\n",
    "    ORDER BY  total DESC\n",
    "    LIMIT 1"
   ]
  },
  {
   "cell_type": "markdown",
   "metadata": {},
   "source": [
    " # Question Set - 2"
   ]
  },
  {
   "cell_type": "markdown",
   "metadata": {},
   "source": [
    "#### Q1 Write query to return the email, first name, last name, & Genre of all Rock Music listeners. Return your list ordered alphabetically by email starting with A"
   ]
  },
  {
   "cell_type": "code",
   "execution_count": null,
   "metadata": {
    "vscode": {
     "languageId": "sql"
    }
   },
   "outputs": [],
   "source": [
    "SELECT DISTINCT email, first_name, last_name \n",
    "    FROM customer\n",
    "    JOIN invoice on customer.customer_id = invoice.customer_id\n",
    "    join invoice_line on invoice.invoice_id =  invoice_line.invoice_id\n",
    "    WHERE track_id IN (\n",
    "        SELECT track_id FROM track\n",
    "        JOIN genre on track.genre_id = genre.genre_id\n",
    "        WHERE genre.name LIKE 'Rock'\n",
    "    )\n",
    "    ORDER BY email"
   ]
  },
  {
   "cell_type": "markdown",
   "metadata": {},
   "source": [
    "#### Q2: Let's invite the artists who have written the most rock music in our dataset. Write a query that returns the Artist name and total track count of the top 10 rock bands"
   ]
  },
  {
   "cell_type": "code",
   "execution_count": null,
   "metadata": {
    "vscode": {
     "languageId": "sql"
    }
   },
   "outputs": [],
   "source": [
    "SELECT artist.artist_id, artist.name, COUNT(artist.artist_id) AS number_of_songs\n",
    "    FROM track\n",
    "    JOIN album ON album.album_id = track.album_id\n",
    "    JOIN artist ON artist.artist_id = album.artist_id\n",
    "    JOIN genre ON genre.genre_id = track.genre_id\n",
    "    WHERE genre.name LIKE 'Rock'\n",
    "    GROUP BY artist.artist_id\n",
    "    ORDER BY number_of_songs DESC\n",
    "    LIMIT 10"
   ]
  },
  {
   "cell_type": "markdown",
   "metadata": {},
   "source": [
    "#### Q3: Return all the track names that have a song length longer than the average song length. Return the Name and Milliseconds for each track. Order by the song length with the longest songs listed first."
   ]
  },
  {
   "cell_type": "code",
   "execution_count": null,
   "metadata": {
    "vscode": {
     "languageId": "sql"
    }
   },
   "outputs": [],
   "source": [
    "SELECT name, milliseconds \n",
    "    FROM track\n",
    "    WHERE milliseconds > (\n",
    "        SELECT AVG(milliseconds) AS avg_track_lengths\n",
    "        FROM track\n",
    "    )\n",
    "    ORDER BY milliseconds DESC"
   ]
  },
  {
   "cell_type": "markdown",
   "metadata": {},
   "source": [
    "# Question Set- 3"
   ]
  },
  {
   "cell_type": "markdown",
   "metadata": {},
   "source": [
    "#### Q1. Find how much amount spent by each customer on artists? Write a query to return customer name, artist name and total spen"
   ]
  },
  {
   "cell_type": "code",
   "execution_count": null,
   "metadata": {
    "vscode": {
     "languageId": "sql"
    }
   },
   "outputs": [],
   "source": [
    "WITH best_selling_artist AS (\n",
    "    SELECT artist.artist_id AS artist_id, artist.name AS artist_name, sum(invoice_line.unit_price*invoice_line.quantity) AS total_sales\n",
    "    FROM invoice_line\n",
    "    JOIN track ON track.track_id = invoice_line.track_id\n",
    "    JOIN album ON album.album_id = track.album_id\n",
    "    JOIN artist ON artist.artist_id = album.artist_id\n",
    "    GROUP BY 1\n",
    "    ORDER BY 3 DESC\n",
    "    limit 1\n",
    ")\n",
    "SELECT c.customer_id, c.first_name, c.last_name, bsa.artist_name, SUM(il.unit_price*il.quantity) AS amount_spend\n",
    "FROM invoice i\n",
    "    JOIN customer c ON c.customer_id = i.customer_id\n",
    "    JOIN invoice_line il ON il.invoice_id = i.invoice_id\n",
    "    JOIN track t ON  t.track_id = il.track_id\n",
    "    JOIN album a ON a.album_id = t.album_id\n",
    "    JOIN best_selling_artist bsa ON bsa.artist_id = a.artist_id\n",
    "    GROUP BY 1,2,3,4\n",
    "    ORDER BY 5 DESC\n",
    "    LIMIT 5"
   ]
  },
  {
   "cell_type": "markdown",
   "metadata": {},
   "source": [
    "#### Q2: We want to find out the most popular music Genre for each country. We determine the most popular genre as the genre with the highest amount of purchases. Write a query that returns each country along with the top Genre. For countries where the maximum number of purchases is shared return all Genres"
   ]
  },
  {
   "cell_type": "code",
   "execution_count": null,
   "metadata": {
    "vscode": {
     "languageId": "sql"
    }
   },
   "outputs": [],
   "source": [
    "WITH popular_genre AS(\n",
    "    SELECT COUNT(invoice_line.quantity) AS purchases, customer.country, genre.name, genre.genre_id,\n",
    "    ROW_NUMBER() OVER(PARTITION BY customer.country ORDER BY COUNT(invoice_line.quantity) DESC) AS row_no\n",
    "    FROM invoice_line\n",
    "    JOIN invoice ON  invoice.invoice_id = invoice_line.invoice_id\n",
    "    JOIN customer ON customer.customer_id = invoice.customer_id\n",
    "    JOIN track ON  track.track_id = invoice_line.track_id\n",
    "    JOIN genre ON  track.genre_id = genre.genre_id\n",
    "    GROUP BY 2,3,4\n",
    "    ORDER BY 2 ASC, 1 DESC\n",
    ")\n",
    "SELECT *FROM popular_genre WHERE row_no <= 1"
   ]
  },
  {
   "cell_type": "markdown",
   "metadata": {},
   "source": [
    "### Q3 . Write a query that determines the customer that has spent the most on music for each country. Write a query that returns the country along with the top customer and how much they spent. For countries where the top amount spent is shared, provide all customers who spent this amount"
   ]
  },
  {
   "cell_type": "code",
   "execution_count": null,
   "metadata": {
    "vscode": {
     "languageId": "sql"
    }
   },
   "outputs": [],
   "source": [
    "WITH RECURSIVE \n",
    "    customer_with_country AS (\n",
    "        SELECT customer.customer_id, first_name, last_name, billing_country, SUM(total) As total_spend\n",
    "        FROM invoice\n",
    "        JOIN customer ON customer.customer_id = invoice.customer_id\n",
    "        GROUP BY 1,2,3,4\n",
    "        ORDER BY 1, 5 DESC\n",
    "    ),\n",
    "    country_max_spending AS (\n",
    "        SELECT billing_country, MAX(total_spend) AS max_spend\n",
    "        FROM customer_with_country\n",
    "        GROUP BY billing_country\n",
    "    )\n",
    "SELECT cc.billing_country, cc.total_spend, cc.first_name, cc.last_name, cc.customer_id\n",
    "FROM customer_with_country cc\n",
    "JOIN country_max_spending cm ON cc.billing_country = cm.billing_country AND cc.total_spend = cm.max_spend\n",
    "ORDER BY cc.billing_country;"
   ]
  }
 ],
 "metadata": {
  "kernelspec": {
   "display_name": "Python 3",
   "language": "python",
   "name": "python3"
  },
  "language_info": {
   "name": "python",
   "version": "3.12.5"
  }
 },
 "nbformat": 4,
 "nbformat_minor": 2
}
